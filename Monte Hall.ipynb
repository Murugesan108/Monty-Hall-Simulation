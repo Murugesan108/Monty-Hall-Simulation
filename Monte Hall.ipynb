{
 "cells": [
  {
   "cell_type": "code",
   "execution_count": 1,
   "metadata": {},
   "outputs": [],
   "source": [
    "import random\n",
    "import numpy as np\n",
    "# 1 - Goat\n",
    "# 2 - Prize\n",
    "doors = np.array([1,1,2])"
   ]
  },
  {
   "cell_type": "code",
   "execution_count": 2,
   "metadata": {},
   "outputs": [
    {
     "data": {
      "text/plain": [
       "array([2, 1, 1])"
      ]
     },
     "execution_count": 2,
     "metadata": {},
     "output_type": "execute_result"
    }
   ],
   "source": [
    "#Shuffle the contents of the door\n",
    "random.shuffle(doors)\n",
    "doors"
   ]
  },
  {
   "cell_type": "code",
   "execution_count": 3,
   "metadata": {},
   "outputs": [
    {
     "data": {
      "text/plain": [
       "2"
      ]
     },
     "execution_count": 3,
     "metadata": {},
     "output_type": "execute_result"
    }
   ],
   "source": [
    "selection = random.randrange(3)+1\n",
    "selection"
   ]
  },
  {
   "cell_type": "markdown",
   "metadata": {},
   "source": [
    "#### Sticking with the same choice"
   ]
  },
  {
   "cell_type": "code",
   "execution_count": 4,
   "metadata": {},
   "outputs": [
    {
     "data": {
      "text/plain": [
       "32.71"
      ]
     },
     "execution_count": 4,
     "metadata": {},
     "output_type": "execute_result"
    }
   ],
   "source": [
    "n_values = 10000\n",
    "correct = 0\n",
    "for each in range(n_values):\n",
    "    \n",
    "    selection = random.randrange(3)+1\n",
    "    #random.shuffle([selection,])\n",
    "    if(doors[selection-1] == 2):\n",
    "        correct += 1\n",
    "        \n",
    "correct/n_values * 100"
   ]
  },
  {
   "cell_type": "markdown",
   "metadata": {},
   "source": [
    "#### Chaging the choice"
   ]
  },
  {
   "cell_type": "code",
   "execution_count": 74,
   "metadata": {},
   "outputs": [
    {
     "name": "stdout",
     "output_type": "stream",
     "text": [
      "NUMBER OF TRIALS :  1000\n",
      "CHANGE OF WINNING IF YOU SWITCH :  67.60000000000001\n",
      "CHANGE OF WINNING IF STAY WITH THE SAME DOOR:  32.4\n"
     ]
    }
   ],
   "source": [
    "entering = 0\n",
    "n_values = 1000\n",
    "changed_correct = 0\n",
    "same_correct = 0\n",
    "for each in range(n_values):\n",
    "    \n",
    "    selection = random.randrange(3)+1\n",
    "    \n",
    "    \n",
    "    remaining_door = [(value,each) for value, each in enumerate(doors) if (value+1) is not selection and each != 1]\n",
    "    \n",
    "    if(len(remaining_door) == 0):\n",
    "        remaining_door = [(value,each) for value, each in enumerate(doors) if (value+1) is not selection] \n",
    "        entering += 1\n",
    "                 \n",
    "    changed_door = remaining_door[0]\n",
    "            \n",
    "    if(doors[(changed_door[0])] == 2):\n",
    "        changed_correct += 1\n",
    "    \n",
    "    if(doors[selection-1] == 2):\n",
    "        same_correct += 1\n",
    "    \n",
    "    \n",
    "    #print(\"Original choice: \",selection)\n",
    "    #print(\"New choice: \",changed_door)\n",
    "print(\"NUMBER OF TRIALS : \",n_values)\n",
    "print(\"CHANGE OF WINNING IF YOU SWITCH : \",changed_correct/n_values * 100)\n",
    "print(\"CHANGE OF WINNING IF STAY WITH THE SAME DOOR: \",same_correct/n_values * 100)"
   ]
  }
 ],
 "metadata": {
  "kernelspec": {
   "display_name": "Python 3",
   "language": "python",
   "name": "python3"
  },
  "language_info": {
   "codemirror_mode": {
    "name": "ipython",
    "version": 3
   },
   "file_extension": ".py",
   "mimetype": "text/x-python",
   "name": "python",
   "nbconvert_exporter": "python",
   "pygments_lexer": "ipython3",
   "version": "3.6.4"
  }
 },
 "nbformat": 4,
 "nbformat_minor": 2
}
